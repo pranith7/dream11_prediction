{
 "cells": [
  {
   "cell_type": "code",
   "execution_count": 1,
   "metadata": {},
   "outputs": [],
   "source": [
    "import pandas as pd"
   ]
  },
  {
   "attachments": {},
   "cell_type": "markdown",
   "metadata": {},
   "source": [
    "Batsman_name\n",
    "Batting_team  \n",
    "Runs_in_last3 \n",
    "Runs_in_lastseason \n",
    "Strike_rate \n",
    "4\n",
    "6\n",
    "50's \n",
    "100's\n",
    "Runs \n",
    "Duck\n",
    "Bowler_name\n",
    "Bowling_team \n",
    "Dream11_score "
   ]
  },
  {
   "cell_type": "code",
   "execution_count": 2,
   "metadata": {},
   "outputs": [
    {
     "name": "stderr",
     "output_type": "stream",
     "text": [
      "/tmp/ipykernel_1187/460034015.py:1: DtypeWarning: Columns (14) have mixed types. Specify dtype option on import or set low_memory=False.\n",
      "  data = pd.read_csv(\"/workspace/dream11_prediction/Data/matchdata.csv\")\n"
     ]
    }
   ],
   "source": [
    "data = pd.read_csv(\"/workspace/dream11_prediction/Data/matchdata.csv\")"
   ]
  },
  {
   "cell_type": "code",
   "execution_count": 4,
   "metadata": {},
   "outputs": [
    {
     "data": {
      "text/html": [
       "<div>\n",
       "<style scoped>\n",
       "    .dataframe tbody tr th:only-of-type {\n",
       "        vertical-align: middle;\n",
       "    }\n",
       "\n",
       "    .dataframe tbody tr th {\n",
       "        vertical-align: top;\n",
       "    }\n",
       "\n",
       "    .dataframe thead th {\n",
       "        text-align: right;\n",
       "    }\n",
       "</style>\n",
       "<table border=\"1\" class=\"dataframe\">\n",
       "  <thead>\n",
       "    <tr style=\"text-align: right;\">\n",
       "      <th></th>\n",
       "      <th>ball</th>\n",
       "      <th>batsmanname</th>\n",
       "      <th>batsmanscorevalue</th>\n",
       "      <th>battingteam</th>\n",
       "      <th>bowlername</th>\n",
       "      <th>bowlingteam</th>\n",
       "      <th>date</th>\n",
       "      <th>fallofwickets</th>\n",
       "      <th>innings</th>\n",
       "      <th>matchid</th>\n",
       "      <th>nonstrikername</th>\n",
       "      <th>over</th>\n",
       "      <th>scorevalue</th>\n",
       "      <th>target</th>\n",
       "      <th>totalruns</th>\n",
       "    </tr>\n",
       "  </thead>\n",
       "  <tbody>\n",
       "    <tr>\n",
       "      <th>197280</th>\n",
       "      <td>116</td>\n",
       "      <td>KD Karthik</td>\n",
       "      <td>1</td>\n",
       "      <td>Kolkata Knight Riders</td>\n",
       "      <td>S Kaul</td>\n",
       "      <td>Sunrisers Hyderabad</td>\n",
       "      <td>1    2021-10-03\\nName: date, dtype: object</td>\n",
       "      <td>0</td>\n",
       "      <td>2nd innings</td>\n",
       "      <td>1254109</td>\n",
       "      <td>EJG Morgan</td>\n",
       "      <td>19.2</td>\n",
       "      <td>1</td>\n",
       "      <td>116</td>\n",
       "      <td>0</td>\n",
       "    </tr>\n",
       "    <tr>\n",
       "      <th>197281</th>\n",
       "      <td>117</td>\n",
       "      <td>EJG Morgan</td>\n",
       "      <td>1</td>\n",
       "      <td>Kolkata Knight Riders</td>\n",
       "      <td>S Kaul</td>\n",
       "      <td>Sunrisers Hyderabad</td>\n",
       "      <td>1    2021-10-03\\nName: date, dtype: object</td>\n",
       "      <td>0</td>\n",
       "      <td>2nd innings</td>\n",
       "      <td>1254109</td>\n",
       "      <td>KD Karthik</td>\n",
       "      <td>19.3</td>\n",
       "      <td>1</td>\n",
       "      <td>116</td>\n",
       "      <td>0</td>\n",
       "    </tr>\n",
       "    <tr>\n",
       "      <th>197282</th>\n",
       "      <td>118</td>\n",
       "      <td>KD Karthik</td>\n",
       "      <td>4</td>\n",
       "      <td>Kolkata Knight Riders</td>\n",
       "      <td>S Kaul</td>\n",
       "      <td>Sunrisers Hyderabad</td>\n",
       "      <td>1    2021-10-03\\nName: date, dtype: object</td>\n",
       "      <td>0</td>\n",
       "      <td>2nd innings</td>\n",
       "      <td>1254109</td>\n",
       "      <td>EJG Morgan</td>\n",
       "      <td>19.4</td>\n",
       "      <td>4</td>\n",
       "      <td>116</td>\n",
       "      <td>0</td>\n",
       "    </tr>\n",
       "  </tbody>\n",
       "</table>\n",
       "</div>"
      ],
      "text/plain": [
       "        ball batsmanname  batsmanscorevalue            battingteam bowlername  \\\n",
       "197280   116  KD Karthik                  1  Kolkata Knight Riders     S Kaul   \n",
       "197281   117  EJG Morgan                  1  Kolkata Knight Riders     S Kaul   \n",
       "197282   118  KD Karthik                  4  Kolkata Knight Riders     S Kaul   \n",
       "\n",
       "                bowlingteam                                        date  \\\n",
       "197280  Sunrisers Hyderabad  1    2021-10-03\\nName: date, dtype: object   \n",
       "197281  Sunrisers Hyderabad  1    2021-10-03\\nName: date, dtype: object   \n",
       "197282  Sunrisers Hyderabad  1    2021-10-03\\nName: date, dtype: object   \n",
       "\n",
       "        fallofwickets      innings  matchid nonstrikername  over  scorevalue  \\\n",
       "197280              0  2nd innings  1254109     EJG Morgan  19.2           1   \n",
       "197281              0  2nd innings  1254109     KD Karthik  19.3           1   \n",
       "197282              0  2nd innings  1254109     EJG Morgan  19.4           4   \n",
       "\n",
       "        target totalruns  \n",
       "197280     116         0  \n",
       "197281     116         0  \n",
       "197282     116         0  "
      ]
     },
     "execution_count": 4,
     "metadata": {},
     "output_type": "execute_result"
    }
   ],
   "source": [
    "# data.tail(3)"
   ]
  },
  {
   "cell_type": "code",
   "execution_count": null,
   "metadata": {},
   "outputs": [],
   "source": []
  }
 ],
 "metadata": {
  "kernelspec": {
   "display_name": "Python 3",
   "language": "python",
   "name": "python3"
  },
  "language_info": {
   "codemirror_mode": {
    "name": "ipython",
    "version": 3
   },
   "file_extension": ".py",
   "mimetype": "text/x-python",
   "name": "python",
   "nbconvert_exporter": "python",
   "pygments_lexer": "ipython3",
   "version": "3.8.13 (default, Oct  4 2022, 14:00:32) \n[GCC 9.4.0]"
  },
  "orig_nbformat": 4,
  "vscode": {
   "interpreter": {
    "hash": "110cc1dee26208153f2972f08a2ad52b6a56238dc66d48e87fb757ef2996db56"
   }
  }
 },
 "nbformat": 4,
 "nbformat_minor": 2
}
